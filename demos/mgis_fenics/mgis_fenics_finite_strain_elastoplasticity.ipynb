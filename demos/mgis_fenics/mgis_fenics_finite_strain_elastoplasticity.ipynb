{
 "cells": [
  {
   "cell_type": "markdown",
   "metadata": {},
   "source": [
    "# Finite-strain elastoplasticity within the logarithmic strain framework\n",
    "\n",
    "This demo is dedicated to the resolution of a finite-strain elastoplastic problem using the logarithmic strain framework proposed in [@miehe_anisotropic_2002].\n",
    "\n",
    "**TODO: get stress with different measures**\n",
    "\n",
    "## Logarithmic strains \n",
    "\n",
    "This framework expresses constitutive relations between the Hencky strain measure $\\boldsymbol{H} = \\dfrac{1}{2}\\log (\\boldsymbol{F}^T\\cdot\\boldsymbol{F})$ and its dual stress measure $\\boldsymbol{T}$. This approach makes it possible to extend classical small strain constitutive relations to a finite-strain setting. In particular, the total (Hencky) strain can be split additively into many contributions (elastic, plastic, thermal, swelling, etc.) e.g. $\\boldsymbol{H}=\\boldsymbol{H}^e+\\boldsymbol{H}^p$. Its trace is also linked with the volume change $J=\\exp(\\operatorname{tr}(\\boldsymbol{H}))$. As a result, the deformation gradient $\\boldsymbol{F}$ is used for expressing the Hencky strain $\\boldsymbol{H}$, a small-strain constitutive law is then written for the $(\\boldsymbol{H},\\boldsymbol{T})$-pair and the dual stress $\\boldsymbol{T}$ is then post-processed to an appropriate stress measure such as the Cauchy stress $\\boldsymbol{\\sigma}$ or Piola-Kirchhoff stresses.\n",
    "\n",
    "## `MFront` implementation\n",
    "\n",
    "The logarithmic strain framework discussed in the previous paragraph consists merely as a pre-processing and a post-processing stages of the behaviour integration. The pre-processing stage compute the logarithmic strain and its increment and the post-processing stage inteprets the stress resulting from the behaviour integration as the dual stress $\\boldsymbol{T}$ and convert it to the Cauchy stress.\n",
    "\n",
    "`MFront` provides the `@StrainMeasure` keyword that allows to specify which strain measure is used by the behaviour. When choosing the `Hencky` strain measure, `MFront` automatically generates those pre- and post-processing stages, allowing the user to focus on the behaviour integration.\n",
    "\n",
    "This leads to the following implementation (see the [small-strain elastoplasticity example](small_strain_elastoplasticity.ipynb) for details about the various implementation available):\n",
    "\n",
    "```cpp\n",
    "@DSL Implicit;\n",
    "\n",
    "@Behaviour IsotropicLinearHardeningPlasticity;\n",
    "@Author Thomas Helfer/Jérémy Bleyer;\n",
    "@Date 07 / 04 / 2020;\n",
    "\n",
    "@StrainMeasure Hencky;\n",
    "\n",
    "@Algorithm NewtonRaphson;\n",
    "@Epsilon 1.e-14;\n",
    "@Theta 1;\n",
    "\n",
    "@MaterialProperty stress s0;\n",
    "s0.setGlossaryName(\"YieldStress\");\n",
    "@MaterialProperty stress H0;\n",
    "H0.setEntryName(\"HardeningSlope\");\n",
    "\n",
    "@Brick StandardElastoViscoPlasticity{\n",
    "  stress_potential : \"Hooke\",\n",
    "  inelastic_flow : \"Plastic\" {\n",
    "    criterion : \"Mises\",\n",
    "    isotropic_hardening : \"Linear\" {H : \"H0\", R0 : \"s0\"}\n",
    "  }\n",
    "};\n",
    "```\n",
    "\n",
    "## `FEniCS` implementation\n",
    "\n",
    "We define a box mesh representing half of a beam oriented along the $x$-direction. The beam will be fully clamped on its left side and symmetry conditions will be imposed on its right extremity. The loading consists of a uniform self-weight.\n",
    "\n",
    "\n",
    "<img src=\"supplementary_files/finite_strain_plasticity_solution.png\" width=\"500\">\n"
   ]
  },
  {
   "cell_type": "code",
   "execution_count": 1,
   "metadata": {},
   "outputs": [],
   "source": [
    "%matplotlib notebook\n",
    "import matplotlib.pyplot as plt\n",
    "from dolfin import *\n",
    "import mgis.fenics as mf\n",
    "import numpy as np\n",
    "import ufl\n",
    "\n",
    "length, width, height = 1., 0.04, 0.1\n",
    "nx, ny, nz = 20, 5, 8\n",
    "mesh = BoxMesh(Point(0, -width/2, -height/2.), Point(length, width/2, height/2.), nx, ny, nz)\n",
    "\n",
    "V = VectorFunctionSpace(mesh, \"CG\", 2)\n",
    "u = Function(V, name=\"Displacement\")\n",
    "\n",
    "def left(x, on_boundary):\n",
    "    return near(x[0], 0) and on_boundary\n",
    "def right(x, on_boundary):\n",
    "    return near(x[0], length) and on_boundary\n",
    "\n",
    "bc = [DirichletBC(V, Constant((0.,)*3), left),\n",
    "      DirichletBC(V.sub(0), Constant(0.), right)]\n",
    "\n",
    "selfweight = Expression((\"0\", \"0\", \"-t*qmax\"), t=0., qmax = 50e6, degree=0)\n",
    "\n",
    "file_results = XDMFFile(\"results/finite_strain_plasticity.xdmf\")\n",
    "file_results.parameters[\"flush_output\"] = True\n",
    "file_results.parameters[\"functions_share_mesh\"] = True"
   ]
  },
  {
   "cell_type": "markdown",
   "metadata": {},
   "source": [
    "The `MFrontNonlinearMaterial` instance is loaded from the `MFront` `LogarithmicStrainPlasticity` behaviour. This behaviour is a finite-strain behaviour (`material.is_finite_strain=True`) which relies on a kinematic description using the total deformation gradient $\\boldsymbol{F}$. By default, a `MFront` behaviour always returns the Cauchy stress as the stress measure after integration. However, the stress variable dual to the deformation gradient is the first Piola-Kirchhoff (PK1) stress. An internal option of the MGIS interface is therefore used in the finite-strain context to return the PK1 stress as the \"flux\" associated to the \"gradient\" $\\boldsymbol{F}$. Both quantities are non-symmetric tensors, aranged as a 9-dimensional vector in 3D following [`MFront` conventions on tensors](http://tfel.sourceforge.net/tensors.html)."
   ]
  },
  {
   "cell_type": "code",
   "execution_count": 2,
   "metadata": {},
   "outputs": [
    {
     "name": "stdout",
     "output_type": "stream",
     "text": [
      "StandardFiniteStrainBehaviour\n",
      "F_CAUCHY\n",
      "['DeformationGradient'] [9]\n",
      "['FirstPiolaKirchhoffStress'] [9]\n"
     ]
    }
   ],
   "source": [
    "material = mf.MFrontNonlinearMaterial(\"materials/src/libBehaviour.so\",\n",
    "                                      \"LogarithmicStrainPlasticity\")\n",
    "print(material.behaviour.getBehaviourType())\n",
    "print(material.behaviour.getKinematic())\n",
    "print(material.get_gradient_names(), material.get_gradient_sizes())\n",
    "print(material.get_flux_names(), material.get_flux_sizes())"
   ]
  },
  {
   "cell_type": "markdown",
   "metadata": {},
   "source": [
    "The `MFrontNonlinearProblem` instance must therefore register the deformation gradient as `Identity(3)+grad(u)`. This again done automatically since `\"DeformationGradient\"` is a predefined gradient. The following message will be shown upon calling `solve`:\n",
    "```\n",
    "Automatic registration of 'DeformationGradient' as I + (grad(Displacement)).\n",
    "```\n",
    "The loading is then defined and, as for the [small-strain elastoplasticity example](small_strain_elastoplasticity.ipynb), state variables include the `ElasticStrain` and `EquivalentPlasticStrain` since the same behaviour is used as in the small-strain case with the only difference that the total strain is now given by the Hencky strain measure. In particular, the `ElasticStrain` is still a symmetric tensor (vector of dimension 6). Note that it has not been explicitly defined as a state variable in the `MFront` behaviour file since this is done automatically when using the `IsotropicPlasticMisesFlow` parser.\n",
    "\n",
    "Finally, we setup a few parameters of the Newton non-linear solver."
   ]
  },
  {
   "cell_type": "code",
   "execution_count": 3,
   "metadata": {},
   "outputs": [
    {
     "name": "stdout",
     "output_type": "stream",
     "text": [
      "'ElasticStrain' shape: (6,)\n"
     ]
    }
   ],
   "source": [
    "problem = mf.MFrontNonlinearProblem(u, material, bcs=bc)\n",
    "problem.set_loading(dot(selfweight, u)*dx)\n",
    "\n",
    "epsel = problem.get_state_variable(\"ElasticStrain\")\n",
    "print(\"'ElasticStrain' shape:\", ufl.shape(epsel))\n",
    "\n",
    "prm = problem.solver.parameters\n",
    "prm[\"absolute_tolerance\"] = 1e-6\n",
    "prm[\"relative_tolerance\"] = 1e-6\n",
    "prm[\"linear_solver\"] = \"mumps\""
   ]
  },
  {
   "cell_type": "markdown",
   "metadata": {},
   "source": [
    "During the load incrementation, we monitor the evolution of the vertical downwards displacement at the middle of the right extremity.\n",
    "\n",
    "This simulation is a bit heavy to run so we suggest running it in parallel:\n",
    "```bash\n",
    "mpirun -np 4 python3 finite_strain_elastoplasticity.py\n",
    "```"
   ]
  },
  {
   "cell_type": "code",
   "execution_count": 4,
   "metadata": {},
   "outputs": [
    {
     "name": "stdout",
     "output_type": "stream",
     "text": [
      "Increment  1\n",
      "Automatic registration of 'DeformationGradient' as I + (grad(Displacement)).\n",
      "\n",
      "Automatic registration of 'Temperature' as a Constant value = 293.15.\n",
      "\n",
      "Increment  2\n",
      "Increment  3\n",
      "Increment  4\n",
      "Increment  5\n",
      "Increment  6\n",
      "Increment  7\n",
      "Increment  8\n",
      "Increment  9\n",
      "Increment  10\n",
      "Increment  11\n",
      "Increment  12\n",
      "Increment  13\n",
      "Increment  14\n",
      "Increment  15\n",
      "Increment  16\n",
      "Increment  17\n",
      "Increment  18\n"
     ]
    },
    {
     "ename": "RuntimeError",
     "evalue": "\n\n*** -------------------------------------------------------------------------\n*** DOLFIN encountered an error. If you are not able to resolve this issue\n*** using the information listed below, you can ask for help at\n***\n***     fenics-support@googlegroups.com\n***\n*** Remember to include the error message listed below and, if possible,\n*** include a *minimal* running example to reproduce the error.\n***\n*** -------------------------------------------------------------------------\n*** Error:   Unable to solve linear system using PETSc Krylov solver.\n*** Reason:  Solution failed to converge in 0 iterations (PETSc reason DIVERGED_PCSETUP_FAILED, residual norm ||r|| = 0.000000e+00).\n*** Where:   This error was encountered inside PETScKrylovSolver.cpp.\n*** Process: 0\n*** \n*** DOLFIN version: 2019.1.0\n*** Git changeset:  unknown\n*** -------------------------------------------------------------------------\n",
     "output_type": "error",
     "traceback": [
      "\u001b[0;31m---------------------------------------------------------------------------\u001b[0m",
      "\u001b[0;31mRuntimeError\u001b[0m                              Traceback (most recent call last)",
      "\u001b[0;32m<ipython-input-4-7a2d1b4b8645>\u001b[0m in \u001b[0;36m<module>\u001b[0;34m\u001b[0m\n\u001b[1;32m      5\u001b[0m     \u001b[0mselfweight\u001b[0m\u001b[0;34m.\u001b[0m\u001b[0mt\u001b[0m \u001b[0;34m=\u001b[0m \u001b[0mt\u001b[0m\u001b[0;34m\u001b[0m\u001b[0;34m\u001b[0m\u001b[0m\n\u001b[1;32m      6\u001b[0m     \u001b[0mprint\u001b[0m\u001b[0;34m(\u001b[0m\u001b[0;34m\"Increment \"\u001b[0m\u001b[0;34m,\u001b[0m \u001b[0mi\u001b[0m\u001b[0;34m+\u001b[0m\u001b[0;36m1\u001b[0m\u001b[0;34m)\u001b[0m\u001b[0;34m\u001b[0m\u001b[0;34m\u001b[0m\u001b[0m\n\u001b[0;32m----> 7\u001b[0;31m     \u001b[0mproblem\u001b[0m\u001b[0;34m.\u001b[0m\u001b[0msolve\u001b[0m\u001b[0;34m(\u001b[0m\u001b[0mu\u001b[0m\u001b[0;34m.\u001b[0m\u001b[0mvector\u001b[0m\u001b[0;34m(\u001b[0m\u001b[0;34m)\u001b[0m\u001b[0;34m)\u001b[0m\u001b[0;34m\u001b[0m\u001b[0;34m\u001b[0m\u001b[0m\n\u001b[0m\u001b[1;32m      8\u001b[0m     \u001b[0mp0\u001b[0m \u001b[0;34m=\u001b[0m \u001b[0mproblem\u001b[0m\u001b[0;34m.\u001b[0m\u001b[0mget_state_variable\u001b[0m\u001b[0;34m(\u001b[0m\u001b[0;34m\"EquivalentPlasticStrain\"\u001b[0m\u001b[0;34m,\u001b[0m \u001b[0mproject_on\u001b[0m\u001b[0;34m=\u001b[0m\u001b[0;34m(\u001b[0m\u001b[0;34m\"DG\"\u001b[0m\u001b[0;34m,\u001b[0m \u001b[0;36m0\u001b[0m\u001b[0;34m)\u001b[0m\u001b[0;34m)\u001b[0m\u001b[0;34m\u001b[0m\u001b[0;34m\u001b[0m\u001b[0m\n\u001b[1;32m      9\u001b[0m \u001b[0;34m\u001b[0m\u001b[0m\n",
      "\u001b[0;32m/usr/local/lib/python3.6/site-packages/mgis/fenics/nonlinear_problem.py\u001b[0m in \u001b[0;36msolve\u001b[0;34m(self, x)\u001b[0m\n\u001b[1;32m    484\u001b[0m         \u001b[0;32mif\u001b[0m \u001b[0mself\u001b[0m\u001b[0;34m.\u001b[0m\u001b[0m_init\u001b[0m\u001b[0;34m:\u001b[0m\u001b[0;34m\u001b[0m\u001b[0;34m\u001b[0m\u001b[0m\n\u001b[1;32m    485\u001b[0m             \u001b[0mself\u001b[0m\u001b[0;34m.\u001b[0m\u001b[0minitialize\u001b[0m\u001b[0;34m(\u001b[0m\u001b[0;34m)\u001b[0m\u001b[0;34m\u001b[0m\u001b[0;34m\u001b[0m\u001b[0m\n\u001b[0;32m--> 486\u001b[0;31m         \u001b[0msolv_out\u001b[0m \u001b[0;34m=\u001b[0m \u001b[0mself\u001b[0m\u001b[0;34m.\u001b[0m\u001b[0msolver\u001b[0m\u001b[0;34m.\u001b[0m\u001b[0msolve\u001b[0m\u001b[0;34m(\u001b[0m\u001b[0mself\u001b[0m\u001b[0;34m,\u001b[0m \u001b[0mx\u001b[0m\u001b[0;34m)\u001b[0m\u001b[0;34m\u001b[0m\u001b[0;34m\u001b[0m\u001b[0m\n\u001b[0m\u001b[1;32m    487\u001b[0m         \u001b[0mmgis_bv\u001b[0m\u001b[0;34m.\u001b[0m\u001b[0mupdate\u001b[0m\u001b[0;34m(\u001b[0m\u001b[0mself\u001b[0m\u001b[0;34m.\u001b[0m\u001b[0mmaterial\u001b[0m\u001b[0;34m.\u001b[0m\u001b[0mdata_manager\u001b[0m\u001b[0;34m)\u001b[0m\u001b[0;34m\u001b[0m\u001b[0;34m\u001b[0m\u001b[0m\n\u001b[1;32m    488\u001b[0m         \u001b[0;32mreturn\u001b[0m \u001b[0msolv_out\u001b[0m\u001b[0;34m\u001b[0m\u001b[0;34m\u001b[0m\u001b[0m\n",
      "\u001b[0;31mRuntimeError\u001b[0m: \n\n*** -------------------------------------------------------------------------\n*** DOLFIN encountered an error. If you are not able to resolve this issue\n*** using the information listed below, you can ask for help at\n***\n***     fenics-support@googlegroups.com\n***\n*** Remember to include the error message listed below and, if possible,\n*** include a *minimal* running example to reproduce the error.\n***\n*** -------------------------------------------------------------------------\n*** Error:   Unable to solve linear system using PETSc Krylov solver.\n*** Reason:  Solution failed to converge in 0 iterations (PETSc reason DIVERGED_PCSETUP_FAILED, residual norm ||r|| = 0.000000e+00).\n*** Where:   This error was encountered inside PETScKrylovSolver.cpp.\n*** Process: 0\n*** \n*** DOLFIN version: 2019.1.0\n*** Git changeset:  unknown\n*** -------------------------------------------------------------------------\n"
     ]
    }
   ],
   "source": [
    "Nincr = 30\n",
    "load_steps = np.linspace(0., 1., Nincr+1)\n",
    "results = np.zeros((Nincr+1, 3))\n",
    "for (i, t) in enumerate(load_steps[1:]):\n",
    "    selfweight.t = t\n",
    "    print(\"Increment \", i+1)\n",
    "    problem.solve(u.vector())\n",
    "    p0 = problem.get_state_variable(\"EquivalentPlasticStrain\", project_on=(\"DG\", 0))\n",
    "\n",
    "    file_results.write(u, t)\n",
    "    file_results.write(p0, t)\n",
    "    \n",
    "    results[i+1, 0] = -u(length, 0, 0)[2]\n",
    "    results[i+1, 1] = t"
   ]
  },
  {
   "cell_type": "markdown",
   "metadata": {},
   "source": [
    "The load-displacement curve exhibits a classical elastoplastic behaviour rapidly followed by a stiffening behaviour due to membrane catenary effects. "
   ]
  },
  {
   "cell_type": "code",
   "execution_count": null,
   "metadata": {},
   "outputs": [],
   "source": [
    "plt.figure()\n",
    "plt.plot(results[:, 0], results[:, 1], \"-o\")\n",
    "plt.xlabel(\"Displacement\")\n",
    "plt.ylabel(\"Load\");"
   ]
  }
 ],
 "metadata": {
  "celltoolbar": "Aucun(e)",
  "kernelspec": {
   "display_name": "Python 3",
   "language": "python",
   "name": "python3"
  },
  "language_info": {
   "codemirror_mode": {
    "name": "ipython",
    "version": 3
   },
   "file_extension": ".py",
   "mimetype": "text/x-python",
   "name": "python",
   "nbconvert_exporter": "python",
   "pygments_lexer": "ipython3",
   "version": "3.6.9"
  },
  "latex_envs": {
   "LaTeX_envs_menu_present": true,
   "autoclose": false,
   "autocomplete": true,
   "bibliofile": "biblio.bib",
   "cite_by": "apalike",
   "current_citInitial": 1,
   "eqLabelWithNumbers": true,
   "eqNumInitial": 1,
   "hotkeys": {
    "equation": "Ctrl-E",
    "itemize": "Ctrl-I"
   },
   "labels_anchors": false,
   "latex_user_defs": false,
   "report_style_numbering": false,
   "user_envs_cfg": false
  }
 },
 "nbformat": 4,
 "nbformat_minor": 4
}
